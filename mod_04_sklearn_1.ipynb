{
 "cells": [
  {
   "cell_type": "code",
   "execution_count": null,
   "id": "fecded7f",
   "metadata": {},
   "outputs": [],
   "source": [
    "# 01. importar bibliotecas Machine Learning\n",
    "import pandas as pd\n",
    "from pandas.plotting import scatter_matrix\n",
    "\n",
    "from sklearn.model_selection import train_test_split\n",
    "from sklearn.neighbors import KNeighborsClassifier\n",
    "from sklearn import svm\n",
    "from sklearn.ensemble import RandomForestClassifier\n",
    "from sklearn.linear_model import LogisticRegression\n",
    "\n",
    "from sklearn.metrics import confusion_matrix\n",
    "from sklearn.metrics import accuracy_score \n",
    "from sklearn.metrics import classification_report \n",
    "\n",
    "import seaborn as sns\n",
    "\n",
    "import warnings\n",
    "warnings.filterwarnings('ignore')"
   ]
  },
  {
   "cell_type": "code",
   "execution_count": null,
   "id": "344cc8bf",
   "metadata": {},
   "outputs": [],
   "source": [
    "#%% 02. importar folha de excel\n",
    "filepath = 'winequality.xls'\n",
    "\n",
    "df1 = pd.read_excel(filepath, sheet_name = 0)"
   ]
  },
  {
   "cell_type": "code",
   "execution_count": null,
   "id": "bc835155",
   "metadata": {},
   "outputs": [],
   "source": [
    "#%% 03. renomear colunas\n",
    "df1.rename(columns={'type':'tipo'}, inplace=True)\n",
    "df1.rename(columns={'quality':'qualidade'}, inplace=True)"
   ]
  },
  {
   "cell_type": "code",
   "execution_count": null,
   "id": "1b048f83",
   "metadata": {},
   "outputs": [],
   "source": [
    "#%% 04. selecionar por criterio e criar nova dataframe (1)\n",
    "redtot = df1.loc[df1['tipo'].isin(['red'])]\n",
    "whitot = df1.loc[df1['tipo'].isin(['white'])]"
   ]
  },
  {
   "cell_type": "code",
   "execution_count": null,
   "id": "2efdf3a9",
   "metadata": {},
   "outputs": [],
   "source": [
    "#%% 05. isolar regiao de controlo e converter target para binario\n",
    "control = df1.loc[df1['alcohol'] >= 10]\n",
    "control['vintage'] = (control['qualidade'] >= 7).astype(int)\n",
    "control['vintage'].sum()"
   ]
  },
  {
   "cell_type": "code",
   "execution_count": null,
   "id": "56e46e1f",
   "metadata": {},
   "outputs": [],
   "source": [
    "#%% 06. selecionar por criterio e criar nova dataframe (2)\n",
    "redcont = control.loc[df1['tipo'].isin(['red'])]\n",
    "whicont = control.loc[df1['tipo'].isin(['white'])]"
   ]
  },
  {
   "cell_type": "code",
   "execution_count": null,
   "id": "8f4ab487",
   "metadata": {},
   "outputs": [],
   "source": [
    "#%% 07. selecionar apenas algumas colunas da dataframe de controlo e criar nova dataframe\n",
    "selparam = ['vintage','density','pH','alcohol']\n",
    "ctl = whicont[selparam]\n",
    "ctl['vintage'].sum()"
   ]
  },
  {
   "cell_type": "code",
   "execution_count": null,
   "id": "f1fa15de",
   "metadata": {},
   "outputs": [],
   "source": [
    "#%% 08. scatter plot dos vários parâmetros de treino em função da classificação (seaborn)\n",
    "sns.pairplot(ctl, hue='vintage')"
   ]
  },
  {
   "cell_type": "code",
   "execution_count": null,
   "id": "569f27ab",
   "metadata": {},
   "outputs": [],
   "source": [
    "#%% 09. remover todos os valores nan para para input dos modelos\n",
    "ctl.dropna(inplace=True)"
   ]
  },
  {
   "cell_type": "code",
   "execution_count": null,
   "id": "8e083a08",
   "metadata": {},
   "outputs": [],
   "source": [
    "#%% 10. extrair o target da dataframe para array\n",
    "target = ctl.pop('vintage').values"
   ]
  },
  {
   "cell_type": "code",
   "execution_count": null,
   "id": "acea26ed",
   "metadata": {},
   "outputs": [],
   "source": [
    "#%% 11. criar dataset de treino e teste para os targets da classificação\n",
    "X_train, X_test, y_train, y_test = train_test_split(ctl, \n",
    "                                                    target, \n",
    "                                                    test_size=0.2, \n",
    "                                                    random_state=0)"
   ]
  },
  {
   "cell_type": "code",
   "execution_count": null,
   "id": "9bb9c2a0",
   "metadata": {},
   "outputs": [],
   "source": [
    "#%% 12. scatter plot entre os parâmetros de treino (matplotlib)\n",
    "scatter_matrix(X_train, c=y_train, marker='.', hist_kwds={'bins': 20}, s=30, alpha=.8)"
   ]
  },
  {
   "cell_type": "code",
   "execution_count": null,
   "id": "6819f21c",
   "metadata": {},
   "outputs": [],
   "source": [
    "#%% 13. TREINAR MODELOS DE CLASSIFICAÇÃO ###\n",
    "# ------------------------------------------------\n",
    "KNN1 = KNeighborsClassifier(n_neighbors=1, n_jobs=2).fit(X_train, y_train)\n",
    "round(KNN1.score(X_test, y_test), 4)\n",
    "\n",
    "KNN2 = KNeighborsClassifier(n_neighbors=2, n_jobs=2).fit(X_train, y_train)\n",
    "round(KNN2.score(X_test, y_test), 4)\n",
    "\n",
    "RFC = RandomForestClassifier(n_estimators=100, n_jobs=2).fit(X_train, y_train)\n",
    "round(RFC.score(X_test, y_test), 4)\n",
    "\n",
    "LRN = LogisticRegression(solver='newton-cg', multi_class='ovr').fit(X_train, y_train)\n",
    "round(LRN.score(X_test,y_test), 4)\n",
    "\n",
    "SVM = svm.SVC(decision_function_shape='ovr', kernel='rbf').fit(X_train, y_train)\n",
    "round(SVM.score(X_test, y_test), 4)"
   ]
  },
  {
   "cell_type": "code",
   "execution_count": null,
   "id": "63e7d268",
   "metadata": {},
   "outputs": [],
   "source": [
    "#%% 14. AVALIAR CLASSIFICAÇÃO PRODUZIDA ####\n",
    "# -----------------------------\n",
    "predicted = KNN1.predict(ctl)\n",
    "confusion_matrix(target, predicted)\n",
    "accuracy_score(target, predicted)\n",
    "print(classification_report(target, predicted, target_names=['class 0', 'class 1']))\n",
    "\n",
    "predicted = KNN2.predict(ctl)\n",
    "confusion_matrix(target, predicted)\n",
    "\n",
    "predicted = RFC.predict(ctl)\n",
    "confusion_matrix(target, predicted)\n",
    "\n",
    "predicted = LRN.predict(ctl)\n",
    "confusion_matrix(target, predicted)\n",
    "\n",
    "predicted = SVM.predict(ctl)\n",
    "confusion_matrix(target, predicted)"
   ]
  },
  {
   "cell_type": "code",
   "execution_count": null,
   "id": "d69a3668",
   "metadata": {},
   "outputs": [],
   "source": [
    "#%% 15. PRODUZIR NOVAS ESTIMATIVAS DE CADA CLASSIFICADOR ####\n",
    "# -----------------------------------------------\n",
    "df1sel = whitot[['density', 'pH', 'alcohol']]\n",
    "#df1sel.drop(['vintage'], axis = 1, inplace = True)\n",
    "df1sel.dropna(inplace=True)\n",
    "\n",
    "dfpred = df1sel.copy()\n",
    "\n",
    "dfpred['KNN1'] = KNN1.predict(df1sel)\n",
    "dfpred['KNN2'] = KNN2.predict(df1sel)\n",
    "dfpred['RFC']  = RFC.predict(df1sel)\n",
    "dfpred['LRN']  = LRN.predict(df1sel)\n",
    "dfpred['SVM']  = SVM.predict(df1sel)\n",
    "\n",
    "dfpred.KNN1.sum()\n",
    "dfpred.KNN2.sum()\n",
    "dfpred.RFC.sum()\n",
    "dfpred.LRN.sum()\n",
    "dfpred.SVM.sum()"
   ]
  },
  {
   "cell_type": "code",
   "execution_count": null,
   "id": "8c2cfb57",
   "metadata": {},
   "outputs": [],
   "source": [
    "#%% 16. criar ficheiro de output para análise externa\n",
    "\n",
    "dfpred['vintage'] = (whitot['qualidade'] >= 7).astype(int)\n",
    "dfpred[['qualidade','X','Y']] = whitot[['qualidade','X','Y']]\n",
    "\n",
    "dfpred.to_csv('exportclass.txt')"
   ]
  }
 ],
 "metadata": {
  "kernelspec": {
   "display_name": "Python 3 (ipykernel)",
   "language": "python",
   "name": "python3"
  },
  "language_info": {
   "codemirror_mode": {
    "name": "ipython",
    "version": 3
   },
   "file_extension": ".py",
   "mimetype": "text/x-python",
   "name": "python",
   "nbconvert_exporter": "python",
   "pygments_lexer": "ipython3",
   "version": "3.10.9"
  }
 },
 "nbformat": 4,
 "nbformat_minor": 5
}
